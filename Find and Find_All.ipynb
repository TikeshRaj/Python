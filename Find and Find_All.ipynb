{
 "cells": [
  {
   "cell_type": "code",
   "execution_count": 1,
   "id": "a5475df3-dca7-489f-badd-22120d8133ca",
   "metadata": {},
   "outputs": [],
   "source": [
    "from bs4 import BeautifulSoup\n",
    "import requests"
   ]
  },
  {
   "cell_type": "code",
   "execution_count": 3,
   "id": "b43b8db3-6c2c-4669-9b06-7ef73a94d535",
   "metadata": {},
   "outputs": [],
   "source": [
    "url = \"https://www.scrapethissite.com/pages/forms/\""
   ]
  },
  {
   "cell_type": "code",
   "execution_count": 9,
   "id": "1b855de2-63e8-4c50-b114-23def188628d",
   "metadata": {},
   "outputs": [],
   "source": [
    "page = requests.get(url)"
   ]
  },
  {
   "cell_type": "code",
   "execution_count": 15,
   "id": "81a90ff1-1eb3-4659-99c9-a39318e89a60",
   "metadata": {},
   "outputs": [],
   "source": [
    "soup = BeautifulSoup(page.text, 'html')"
   ]
  },
  {
   "cell_type": "code",
   "execution_count": 29,
   "id": "5da61d9f-0862-4ac2-ba5e-10cc02249c3a",
   "metadata": {},
   "outputs": [
    {
     "data": {
      "text/plain": [
       "'Hockey Teams: Forms, Searching and Pagination\\n                            25 items'"
      ]
     },
     "execution_count": 29,
     "metadata": {},
     "output_type": "execute_result"
    }
   ],
   "source": [
    "soup.find('h1').text.strip()"
   ]
  },
  {
   "cell_type": "code",
   "execution_count": 47,
   "id": "0ac4570a-fc18-4eef-ae54-48018d45fce5",
   "metadata": {},
   "outputs": [
    {
     "data": {
      "text/plain": [
       "'Browse through a database of NHL team stats since 1990. Practice building a scraper that handles common website interface components.\\n                            Take a look at how pagination and search elements change the URL as your browse. Build a web scraper that can conduct searches and paginate through the results.'"
      ]
     },
     "execution_count": 47,
     "metadata": {},
     "output_type": "execute_result"
    }
   ],
   "source": [
    "soup.find('p',class_ = \"lead\").text.strip()"
   ]
  },
  {
   "cell_type": "code",
   "execution_count": 55,
   "id": "de47162a-792c-4c6c-8110-908f4882b138",
   "metadata": {},
   "outputs": [
    {
     "data": {
      "text/plain": [
       "'Team Name'"
      ]
     },
     "execution_count": 55,
     "metadata": {},
     "output_type": "execute_result"
    }
   ],
   "source": [
    "soup.find('th').text.strip()"
   ]
  },
  {
   "cell_type": "code",
   "execution_count": null,
   "id": "462ebe5d-929a-454f-bf7b-5c676ab7078a",
   "metadata": {},
   "outputs": [],
   "source": []
  },
  {
   "cell_type": "code",
   "execution_count": null,
   "id": "092d0345-d0f1-449b-9e19-c11e06e860c4",
   "metadata": {},
   "outputs": [],
   "source": []
  },
  {
   "cell_type": "code",
   "execution_count": null,
   "id": "3ccb9a62-9376-45dd-9353-7490eb962528",
   "metadata": {},
   "outputs": [],
   "source": []
  },
  {
   "cell_type": "code",
   "execution_count": null,
   "id": "36f4dd62-f67c-4dd5-ae0f-3efe5edc014a",
   "metadata": {},
   "outputs": [],
   "source": []
  },
  {
   "cell_type": "code",
   "execution_count": null,
   "id": "7b5a6b9b-7b65-4d7d-ba52-00a2c0590298",
   "metadata": {},
   "outputs": [],
   "source": []
  },
  {
   "cell_type": "code",
   "execution_count": null,
   "id": "6ae6de48-f0ce-41a8-abd1-a5157c6341a7",
   "metadata": {},
   "outputs": [],
   "source": []
  }
 ],
 "metadata": {
  "kernelspec": {
   "display_name": "Python [conda env:base] *",
   "language": "python",
   "name": "conda-base-py"
  },
  "language_info": {
   "codemirror_mode": {
    "name": "ipython",
    "version": 3
   },
   "file_extension": ".py",
   "mimetype": "text/x-python",
   "name": "python",
   "nbconvert_exporter": "python",
   "pygments_lexer": "ipython3",
   "version": "3.12.7"
  }
 },
 "nbformat": 4,
 "nbformat_minor": 5
}
