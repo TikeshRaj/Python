{
 "cells": [
  {
   "cell_type": "code",
   "execution_count": 181,
   "id": "6b04446b-d70f-43fe-b459-08efd75638cd",
   "metadata": {},
   "outputs": [],
   "source": [
    "import os, shutil"
   ]
  },
  {
   "cell_type": "code",
   "execution_count": 240,
   "id": "3cfcafb0-9bc5-45af-b370-04eda1a2b5c1",
   "metadata": {},
   "outputs": [],
   "source": [
    "#Defining the path \n",
    "path = r\"C:/Users/tikes/Downloads/File_Sorter/\""
   ]
  },
  {
   "cell_type": "code",
   "execution_count": 242,
   "id": "cf1c5110-521a-403e-863a-eacc286dc7d0",
   "metadata": {},
   "outputs": [],
   "source": [
    "# list down the directories \n",
    "file_name = os.listdir(path)"
   ]
  },
  {
   "cell_type": "code",
   "execution_count": 244,
   "id": "ec9c34fd-7bb9-4628-910b-82b90441cae8",
   "metadata": {},
   "outputs": [],
   "source": [
    "#List of folder names\n",
    "folder_names = ['csv_file','text_file','image_file']\n",
    "\n",
    "#Creating the folder\n",
    "for loop in range(0,3):\n",
    "    if not os.path.exists(path + folder_names[loop]):\n",
    "        #print(path + folder_names[loop])\n",
    "        os.makedirs(path + folder_names[loop])\n",
    "\n",
    "#Sorting the file into the folder\n",
    "for file in file_name:\n",
    "    if \".csv\" in file and not os.path.exists(path + \"csv_file/\"+file):\n",
    "        shutil.move(path + file , path + \"csv_file/\",file)\n",
    "    elif \".txt\" in file and not os.path.exists(path + \"text_file/\"+file):\n",
    "        shutil.move(path + file , path + \"text_file/\",file)\n",
    "    elif \".png\" in file and not os.path.exists(path + \"image_file/\"+file):\n",
    "        shutil.move(path + file , path + \"image_file/\",file)"
   ]
  },
  {
   "cell_type": "code",
   "execution_count": null,
   "id": "69e1635a-a16d-4b8d-864a-dbff50ba20e2",
   "metadata": {},
   "outputs": [],
   "source": []
  },
  {
   "cell_type": "code",
   "execution_count": null,
   "id": "e7a0c6bc-4caa-4cdd-b5be-e968ff3fa2bc",
   "metadata": {},
   "outputs": [],
   "source": []
  },
  {
   "cell_type": "code",
   "execution_count": null,
   "id": "9b115fed-5420-4ec8-b73d-90e1079968e3",
   "metadata": {},
   "outputs": [],
   "source": []
  },
  {
   "cell_type": "code",
   "execution_count": null,
   "id": "e7892522-0eaf-4ef8-929e-5a65170b5466",
   "metadata": {},
   "outputs": [],
   "source": []
  },
  {
   "cell_type": "code",
   "execution_count": null,
   "id": "306557cf-21f5-4e1a-ace6-63a868440e50",
   "metadata": {},
   "outputs": [],
   "source": []
  },
  {
   "cell_type": "code",
   "execution_count": null,
   "id": "38ad9d72-0e9b-4ed1-a26d-86e5077d3bae",
   "metadata": {},
   "outputs": [],
   "source": []
  }
 ],
 "metadata": {
  "kernelspec": {
   "display_name": "Python [conda env:base] *",
   "language": "python",
   "name": "conda-base-py"
  },
  "language_info": {
   "codemirror_mode": {
    "name": "ipython",
    "version": 3
   },
   "file_extension": ".py",
   "mimetype": "text/x-python",
   "name": "python",
   "nbconvert_exporter": "python",
   "pygments_lexer": "ipython3",
   "version": "3.12.7"
  }
 },
 "nbformat": 4,
 "nbformat_minor": 5
}
