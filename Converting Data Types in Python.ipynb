{
 "cells": [
  {
   "cell_type": "code",
   "execution_count": null,
   "id": "4ea62fee-a0df-4c2a-980a-b1bfa7f4038e",
   "metadata": {},
   "outputs": [],
   "source": [
    "# Converting Data Types in Python"
   ]
  },
  {
   "cell_type": "code",
   "execution_count": 1,
   "id": "1785980b-5fd0-4575-b09b-61c22dd012a3",
   "metadata": {},
   "outputs": [
    {
     "data": {
      "text/plain": [
       "int"
      ]
     },
     "execution_count": 1,
     "metadata": {},
     "output_type": "execute_result"
    }
   ],
   "source": [
    "int_type = 2\n",
    "type(int_type)"
   ]
  },
  {
   "cell_type": "code",
   "execution_count": 3,
   "id": "7a323d6e-d8c0-4f99-aa6a-b948e504b8d0",
   "metadata": {},
   "outputs": [
    {
     "data": {
      "text/plain": [
       "str"
      ]
     },
     "execution_count": 3,
     "metadata": {},
     "output_type": "execute_result"
    }
   ],
   "source": [
    "str_type = '7'\n",
    "type(str_type)"
   ]
  },
  {
   "cell_type": "code",
   "execution_count": 7,
   "id": "326b6042-67b0-4672-901c-f67a37485557",
   "metadata": {},
   "outputs": [],
   "source": [
    "str_type_conv = int(str_type)"
   ]
  },
  {
   "cell_type": "code",
   "execution_count": 11,
   "id": "3fc3edf3-9bce-44c6-8cd6-aa263f306b13",
   "metadata": {},
   "outputs": [
    {
     "name": "stdout",
     "output_type": "stream",
     "text": [
      "9\n"
     ]
    }
   ],
   "source": [
    "Sum_type = int_type + str_type_conv\n",
    "print(Sum_type)"
   ]
  },
  {
   "cell_type": "code",
   "execution_count": 13,
   "id": "07319b34-9bb3-4ae4-9196-0ef60d82aef1",
   "metadata": {},
   "outputs": [
    {
     "data": {
      "text/plain": [
       "list"
      ]
     },
     "execution_count": 13,
     "metadata": {},
     "output_type": "execute_result"
    }
   ],
   "source": [
    "list_type = [1,2,3,4]\n",
    "type(list_type)"
   ]
  },
  {
   "cell_type": "code",
   "execution_count": 21,
   "id": "6cf17666-8659-428b-a272-f4bace4c7da3",
   "metadata": {},
   "outputs": [
    {
     "data": {
      "text/plain": [
       "tuple"
      ]
     },
     "execution_count": 21,
     "metadata": {},
     "output_type": "execute_result"
    }
   ],
   "source": [
    "type(tuple(list_type))"
   ]
  },
  {
   "cell_type": "code",
   "execution_count": 23,
   "id": "0348f9a7-c532-44f2-9a04-8bbb2dc8572e",
   "metadata": {},
   "outputs": [
    {
     "data": {
      "text/plain": [
       "set"
      ]
     },
     "execution_count": 23,
     "metadata": {},
     "output_type": "execute_result"
    }
   ],
   "source": [
    "type(set(list_type))"
   ]
  },
  {
   "cell_type": "code",
   "execution_count": 25,
   "id": "3e7f5f20-7aee-451f-928f-a3b159f4444e",
   "metadata": {},
   "outputs": [],
   "source": [
    "dict_type = {'Name':'Tikesh Raj', 'Age':22, 'Gender': 'Male'}"
   ]
  },
  {
   "cell_type": "code",
   "execution_count": 27,
   "id": "559c5a39-e190-44a6-85df-72f859b70592",
   "metadata": {},
   "outputs": [
    {
     "data": {
      "text/plain": [
       "dict_keys(['Name', 'Age', 'Gender'])"
      ]
     },
     "execution_count": 27,
     "metadata": {},
     "output_type": "execute_result"
    }
   ],
   "source": [
    "dict_type.keys()"
   ]
  },
  {
   "cell_type": "code",
   "execution_count": 29,
   "id": "cd3aaac3-01ce-4936-8b62-908144f87f62",
   "metadata": {},
   "outputs": [
    {
     "data": {
      "text/plain": [
       "dict_values(['Tikesh Raj', 22, 'Male'])"
      ]
     },
     "execution_count": 29,
     "metadata": {},
     "output_type": "execute_result"
    }
   ],
   "source": [
    "dict_type.values()"
   ]
  },
  {
   "cell_type": "code",
   "execution_count": 31,
   "id": "a6d4fe97-08c1-4e82-95fe-9eb626be4986",
   "metadata": {},
   "outputs": [
    {
     "data": {
      "text/plain": [
       "dict_items([('Name', 'Tikesh Raj'), ('Age', 22), ('Gender', 'Male')])"
      ]
     },
     "execution_count": 31,
     "metadata": {},
     "output_type": "execute_result"
    }
   ],
   "source": [
    "dict_type.items()"
   ]
  },
  {
   "cell_type": "code",
   "execution_count": 37,
   "id": "6758fe87-2a88-4816-ab59-ecc0007a4f8a",
   "metadata": {},
   "outputs": [
    {
     "data": {
      "text/plain": [
       "[('Name', 'Tikesh Raj'), ('Age', 22), ('Gender', 'Male')]"
      ]
     },
     "execution_count": 37,
     "metadata": {},
     "output_type": "execute_result"
    }
   ],
   "source": [
    "list(dict_type.items())"
   ]
  },
  {
   "cell_type": "code",
   "execution_count": 41,
   "id": "986ad596-ab82-4b28-bdfd-db91d4e4a5df",
   "metadata": {},
   "outputs": [
    {
     "data": {
      "text/plain": [
       "['I', ' ', 'L', 'i', 'k', 'e', ' ', 't', 'o', ' ', 'P', 'a', 'r', 't', 'y']"
      ]
     },
     "execution_count": 41,
     "metadata": {},
     "output_type": "execute_result"
    }
   ],
   "source": [
    "long_str = 'I Like to Party'\n",
    "list(long_str)"
   ]
  },
  {
   "cell_type": "code",
   "execution_count": null,
   "id": "695c7587-55e5-4c00-90ce-1f6ad814dc6a",
   "metadata": {},
   "outputs": [],
   "source": []
  },
  {
   "cell_type": "code",
   "execution_count": null,
   "id": "8a968263-09d1-4146-a12c-a4cab7052dfa",
   "metadata": {},
   "outputs": [],
   "source": []
  },
  {
   "cell_type": "code",
   "execution_count": null,
   "id": "d6a4647a-3423-4983-b49a-632575bbd512",
   "metadata": {},
   "outputs": [],
   "source": []
  },
  {
   "cell_type": "code",
   "execution_count": null,
   "id": "634f2ab2-74f8-445d-ab90-2068781d4de3",
   "metadata": {},
   "outputs": [],
   "source": []
  },
  {
   "cell_type": "code",
   "execution_count": null,
   "id": "a5848954-36fb-413b-838c-9f504f7d88d8",
   "metadata": {},
   "outputs": [],
   "source": []
  },
  {
   "cell_type": "code",
   "execution_count": null,
   "id": "d411b4ce-a771-4bc3-8945-ff6245aeddfe",
   "metadata": {},
   "outputs": [],
   "source": []
  }
 ],
 "metadata": {
  "kernelspec": {
   "display_name": "Python [conda env:base] *",
   "language": "python",
   "name": "conda-base-py"
  },
  "language_info": {
   "codemirror_mode": {
    "name": "ipython",
    "version": 3
   },
   "file_extension": ".py",
   "mimetype": "text/x-python",
   "name": "python",
   "nbconvert_exporter": "python",
   "pygments_lexer": "ipython3",
   "version": "3.12.7"
  }
 },
 "nbformat": 4,
 "nbformat_minor": 5
}
