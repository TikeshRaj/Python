{
 "cells": [
  {
   "cell_type": "code",
   "execution_count": 1,
   "id": "5586b25b-4a96-4029-ab50-4518bc91e795",
   "metadata": {},
   "outputs": [],
   "source": [
    "# Comparison Operator\n",
    "##. ==, <, >, !=, <=, >="
   ]
  },
  {
   "cell_type": "code",
   "execution_count": 2,
   "id": "995b5121-dcce-4f90-9f08-e8121874fd53",
   "metadata": {},
   "outputs": [
    {
     "data": {
      "text/plain": [
       "True"
      ]
     },
     "execution_count": 2,
     "metadata": {},
     "output_type": "execute_result"
    }
   ],
   "source": [
    "10 == 10"
   ]
  },
  {
   "cell_type": "code",
   "execution_count": 3,
   "id": "d23a2447-4e5b-4e58-a141-4a424040e206",
   "metadata": {},
   "outputs": [
    {
     "data": {
      "text/plain": [
       "False"
      ]
     },
     "execution_count": 3,
     "metadata": {},
     "output_type": "execute_result"
    }
   ],
   "source": [
    "10 != 10"
   ]
  },
  {
   "cell_type": "code",
   "execution_count": 4,
   "id": "7d266d21-d13e-4fce-a2af-91345967a76a",
   "metadata": {},
   "outputs": [
    {
     "data": {
      "text/plain": [
       "False"
      ]
     },
     "execution_count": 4,
     "metadata": {},
     "output_type": "execute_result"
    }
   ],
   "source": [
    "10 < 10"
   ]
  },
  {
   "cell_type": "code",
   "execution_count": 5,
   "id": "f356b637-5816-49ec-9b85-920c20c00522",
   "metadata": {},
   "outputs": [
    {
     "data": {
      "text/plain": [
       "False"
      ]
     },
     "execution_count": 5,
     "metadata": {},
     "output_type": "execute_result"
    }
   ],
   "source": [
    "10 > 10"
   ]
  },
  {
   "cell_type": "code",
   "execution_count": 6,
   "id": "ac94143e-44f8-44dc-b055-93e3b372326f",
   "metadata": {},
   "outputs": [
    {
     "data": {
      "text/plain": [
       "True"
      ]
     },
     "execution_count": 6,
     "metadata": {},
     "output_type": "execute_result"
    }
   ],
   "source": [
    "10 >= 10"
   ]
  },
  {
   "cell_type": "code",
   "execution_count": 7,
   "id": "a85dd8e8-ada8-4157-b62b-531b8467349f",
   "metadata": {},
   "outputs": [
    {
     "data": {
      "text/plain": [
       "True"
      ]
     },
     "execution_count": 7,
     "metadata": {},
     "output_type": "execute_result"
    }
   ],
   "source": [
    "10 <= 10"
   ]
  },
  {
   "cell_type": "code",
   "execution_count": null,
   "id": "e54bff82-c50f-4c94-9808-05c420fe0c2d",
   "metadata": {},
   "outputs": [],
   "source": [
    "# Logical Operator\n",
    "##. AND, OR, NOT"
   ]
  },
  {
   "cell_type": "code",
   "execution_count": 43,
   "id": "99c7a3ef-b0a3-4593-8982-3ba62842b607",
   "metadata": {},
   "outputs": [
    {
     "data": {
      "text/plain": [
       "True"
      ]
     },
     "execution_count": 43,
     "metadata": {},
     "output_type": "execute_result"
    }
   ],
   "source": [
    "#Logical AND \n",
    "(10 < 50) and (10 < 20)"
   ]
  },
  {
   "cell_type": "code",
   "execution_count": 41,
   "id": "db974d69-4a60-4bb2-9692-b50f56134711",
   "metadata": {},
   "outputs": [
    {
     "data": {
      "text/plain": [
       "'Chocolate'"
      ]
     },
     "execution_count": 41,
     "metadata": {},
     "output_type": "execute_result"
    }
   ],
   "source": [
    "('Vanilla ') and ('Chocolate')"
   ]
  },
  {
   "cell_type": "code",
   "execution_count": 49,
   "id": "448e244d-4b3c-436f-a52d-0f78564973b4",
   "metadata": {},
   "outputs": [
    {
     "data": {
      "text/plain": [
       "True"
      ]
     },
     "execution_count": 49,
     "metadata": {},
     "output_type": "execute_result"
    }
   ],
   "source": [
    "('Vanilla ' > 'Chocolate') or (1 < 5)"
   ]
  },
  {
   "cell_type": "code",
   "execution_count": 51,
   "id": "6ede2c17-350d-4d4b-bda9-dfbf04543043",
   "metadata": {},
   "outputs": [
    {
     "data": {
      "text/plain": [
       "True"
      ]
     },
     "execution_count": 51,
     "metadata": {},
     "output_type": "execute_result"
    }
   ],
   "source": [
    "(10 < 50) or (10 < 20)"
   ]
  },
  {
   "cell_type": "code",
   "execution_count": 55,
   "id": "9aeaab6a-d880-4e38-828e-29ceefe0d92c",
   "metadata": {},
   "outputs": [
    {
     "data": {
      "text/plain": [
       "False"
      ]
     },
     "execution_count": 55,
     "metadata": {},
     "output_type": "execute_result"
    }
   ],
   "source": [
    "not(10 < 50)"
   ]
  },
  {
   "cell_type": "code",
   "execution_count": null,
   "id": "402a8dbc-5d52-413a-99cb-db7eb6df2291",
   "metadata": {},
   "outputs": [],
   "source": []
  },
  {
   "cell_type": "code",
   "execution_count": null,
   "id": "053467c0-eb41-4ac6-ba21-cd09111f1c42",
   "metadata": {},
   "outputs": [],
   "source": [
    "# Membership Operator\n",
    "# In \n",
    "# Not in"
   ]
  },
  {
   "cell_type": "code",
   "execution_count": 59,
   "id": "277528d8-254e-4e51-adb1-12a0423cdbfc",
   "metadata": {},
   "outputs": [
    {
     "data": {
      "text/plain": [
       "True"
      ]
     },
     "execution_count": 59,
     "metadata": {},
     "output_type": "execute_result"
    }
   ],
   "source": [
    "ice_cream = 'I love to eat chocolate ice cream'\n",
    "'love' in 'I love to eat chocolate ice cream'"
   ]
  },
  {
   "cell_type": "code",
   "execution_count": 61,
   "id": "0195674c-7f7a-4d99-8c1e-caf37fabd893",
   "metadata": {},
   "outputs": [
    {
     "data": {
      "text/plain": [
       "False"
      ]
     },
     "execution_count": 61,
     "metadata": {},
     "output_type": "execute_result"
    }
   ],
   "source": [
    "ice_cream = 'I love to eat chocolate ice cream'\n",
    "'ice' not in ice_cream\n"
   ]
  },
  {
   "cell_type": "code",
   "execution_count": 65,
   "id": "67e7f03e-d2a3-4ff3-b35b-1f121369579d",
   "metadata": {},
   "outputs": [
    {
     "data": {
      "text/plain": [
       "False"
      ]
     },
     "execution_count": 65,
     "metadata": {},
     "output_type": "execute_result"
    }
   ],
   "source": [
    "ice_cream = [1,2,3,4,5]\n",
    "6 in ice_cream"
   ]
  },
  {
   "cell_type": "code",
   "execution_count": 67,
   "id": "370a2dba-bdf0-4f2d-8335-83919bb4d31f",
   "metadata": {},
   "outputs": [
    {
     "data": {
      "text/plain": [
       "False"
      ]
     },
     "execution_count": 67,
     "metadata": {},
     "output_type": "execute_result"
    }
   ],
   "source": [
    "ice_cream = [1,2,3,4,5]\n",
    "wanted_ice_cream = 8\n",
    "wanted_ice_cream in ice_cream"
   ]
  },
  {
   "cell_type": "code",
   "execution_count": null,
   "id": "b1b66e72-3801-4b58-a2c5-9bec8b811100",
   "metadata": {},
   "outputs": [],
   "source": []
  },
  {
   "cell_type": "code",
   "execution_count": null,
   "id": "d0338a73-8a36-4bd0-b1d3-e3cfe85088d3",
   "metadata": {},
   "outputs": [],
   "source": []
  },
  {
   "cell_type": "code",
   "execution_count": null,
   "id": "e70c6c82-e101-4d73-a8bd-b7ad44c3f14c",
   "metadata": {},
   "outputs": [],
   "source": []
  },
  {
   "cell_type": "code",
   "execution_count": null,
   "id": "908459dd-1c0c-4a3e-9cb7-d86f848492f0",
   "metadata": {},
   "outputs": [],
   "source": []
  }
 ],
 "metadata": {
  "kernelspec": {
   "display_name": "Python [conda env:base] *",
   "language": "python",
   "name": "conda-base-py"
  },
  "language_info": {
   "codemirror_mode": {
    "name": "ipython",
    "version": 3
   },
   "file_extension": ".py",
   "mimetype": "text/x-python",
   "name": "python",
   "nbconvert_exporter": "python",
   "pygments_lexer": "ipython3",
   "version": "3.12.7"
  }
 },
 "nbformat": 4,
 "nbformat_minor": 5
}
