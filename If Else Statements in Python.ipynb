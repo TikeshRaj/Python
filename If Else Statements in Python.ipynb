{
 "cells": [
  {
   "cell_type": "code",
   "execution_count": null,
   "id": "ac28167b-f823-4849-bd76-31be5dfa5ac1",
   "metadata": {},
   "outputs": [],
   "source": [
    "# If Else Statements in Python........"
   ]
  },
  {
   "cell_type": "code",
   "execution_count": 7,
   "id": "e2eb1ce5-a76d-4d6f-80e4-bc53bcb7fb99",
   "metadata": {},
   "outputs": [
    {
     "name": "stdout",
     "output_type": "stream",
     "text": [
      "It Worked!\n"
     ]
    }
   ],
   "source": [
    "if 25 > 20:\n",
    "    print('It Worked!')"
   ]
  },
  {
   "cell_type": "code",
   "execution_count": 11,
   "id": "712dafbe-3705-4dba-946a-6458a0e13720",
   "metadata": {},
   "outputs": [
    {
     "name": "stdout",
     "output_type": "stream",
     "text": [
      "It Did Not Worked!.....\n"
     ]
    }
   ],
   "source": [
    "if 25 < 20:\n",
    "    print('It Worked!')\n",
    "else:\n",
    "    print('It Did Not Worked!.....')"
   ]
  },
  {
   "cell_type": "code",
   "execution_count": 13,
   "id": "fad2736c-6168-4468-9f70-160db7cbc2ed",
   "metadata": {},
   "outputs": [
    {
     "name": "stdout",
     "output_type": "stream",
     "text": [
      "elif Worked!\n"
     ]
    }
   ],
   "source": [
    "if 25 < 20:\n",
    "    print('It Worked!')\n",
    "elif 25 > 20:\n",
    "    print('elif Worked!')\n",
    "else:\n",
    "    print('It Did Not Worked!.....')"
   ]
  },
  {
   "cell_type": "code",
   "execution_count": 15,
   "id": "080580dd-9fbb-4a75-9325-b4394311cb6a",
   "metadata": {},
   "outputs": [
    {
     "name": "stdout",
     "output_type": "stream",
     "text": [
      "elif 3 Worked!\n"
     ]
    }
   ],
   "source": [
    "if 25 < 20:\n",
    "    print('It Worked!')\n",
    "elif 30 < 20:\n",
    "    print('elif Worked!')\n",
    "elif 50 > 61:\n",
    "    print('elif 1 Worked!')\n",
    "elif 55 > 75:\n",
    "    print('elif 2 Worked!')\n",
    "elif 70 > 20:\n",
    "    print('elif 3 Worked!')\n",
    "else:\n",
    "    print('It Did Not Worked!.....')"
   ]
  },
  {
   "cell_type": "code",
   "execution_count": 19,
   "id": "82d554f4-e511-41e7-868e-221c466c119e",
   "metadata": {},
   "outputs": [
    {
     "name": "stdout",
     "output_type": "stream",
     "text": [
      "It Worked!\n",
      "Nested If statement worked!\n"
     ]
    }
   ],
   "source": [
    "if 25 > 20:\n",
    "    print('It Worked!')\n",
    "    if 30 > 10:\n",
    "        print('Nested If statement worked!')\n",
    "elif 30 < 20:\n",
    "    print('elif Worked!')\n",
    "elif 50 > 61:\n",
    "    print('elif 1 Worked!')\n",
    "elif 55 > 75:\n",
    "    print('elif 2 Worked!')\n",
    "elif 70 > 20:\n",
    "    print('elif 3 Worked!')\n",
    "else:\n",
    "    print('It Did Not Worked!.....')"
   ]
  },
  {
   "cell_type": "code",
   "execution_count": null,
   "id": "af3736df-cf67-433d-a677-dbc4cb81cde6",
   "metadata": {},
   "outputs": [],
   "source": []
  },
  {
   "cell_type": "code",
   "execution_count": null,
   "id": "54802048-118b-4e79-bd5b-a642ab087510",
   "metadata": {},
   "outputs": [],
   "source": []
  },
  {
   "cell_type": "code",
   "execution_count": null,
   "id": "f3b4f5ca-a1f0-4254-9df9-a50bdbec59b3",
   "metadata": {},
   "outputs": [],
   "source": []
  },
  {
   "cell_type": "code",
   "execution_count": null,
   "id": "d82d6a31-a57f-46c0-9582-1c99a47cb331",
   "metadata": {},
   "outputs": [],
   "source": []
  },
  {
   "cell_type": "code",
   "execution_count": null,
   "id": "261a5f91-c1a0-4ccb-854b-444580152449",
   "metadata": {},
   "outputs": [],
   "source": []
  },
  {
   "cell_type": "code",
   "execution_count": null,
   "id": "0cb73394-58cf-49fc-9564-084d1d0fe14d",
   "metadata": {},
   "outputs": [],
   "source": []
  },
  {
   "cell_type": "code",
   "execution_count": null,
   "id": "bc649227-3375-41ed-befc-f564fdee8a44",
   "metadata": {},
   "outputs": [],
   "source": []
  },
  {
   "cell_type": "code",
   "execution_count": null,
   "id": "4a71be1b-f170-4efa-a2d6-821c886bf987",
   "metadata": {},
   "outputs": [],
   "source": []
  },
  {
   "cell_type": "code",
   "execution_count": null,
   "id": "67bcdd47-2309-4c1e-9d27-b72b1ed19149",
   "metadata": {},
   "outputs": [],
   "source": []
  },
  {
   "cell_type": "code",
   "execution_count": null,
   "id": "f8be3f77-9181-4696-9bc8-ae7a5967d903",
   "metadata": {},
   "outputs": [],
   "source": []
  },
  {
   "cell_type": "code",
   "execution_count": null,
   "id": "b9c7bff5-aeee-4379-99d1-dcf44e39c502",
   "metadata": {},
   "outputs": [],
   "source": []
  },
  {
   "cell_type": "code",
   "execution_count": null,
   "id": "4c58548c-f54f-4d97-99c8-417e5376162e",
   "metadata": {},
   "outputs": [],
   "source": []
  },
  {
   "cell_type": "code",
   "execution_count": null,
   "id": "fed2447e-e7ed-4c36-8a05-f58ee40fecf2",
   "metadata": {},
   "outputs": [],
   "source": []
  }
 ],
 "metadata": {
  "kernelspec": {
   "display_name": "Python [conda env:base] *",
   "language": "python",
   "name": "conda-base-py"
  },
  "language_info": {
   "codemirror_mode": {
    "name": "ipython",
    "version": 3
   },
   "file_extension": ".py",
   "mimetype": "text/x-python",
   "name": "python",
   "nbconvert_exporter": "python",
   "pygments_lexer": "ipython3",
   "version": "3.12.7"
  }
 },
 "nbformat": 4,
 "nbformat_minor": 5
}
