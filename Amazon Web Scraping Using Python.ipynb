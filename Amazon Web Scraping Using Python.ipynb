{
 "cells": [
  {
   "cell_type": "code",
   "execution_count": 142,
   "id": "680233c3-8762-4bbd-a9de-a1a967afce61",
   "metadata": {},
   "outputs": [],
   "source": [
    "#import libraries\n",
    "from bs4 import BeautifulSoup\n",
    "import requests\n",
    "import datetime\n",
    "import time"
   ]
  },
  {
   "cell_type": "code",
   "execution_count": 172,
   "id": "58ff99d6-0c25-4995-8513-d9e84f6977a8",
   "metadata": {},
   "outputs": [
    {
     "name": "stdout",
     "output_type": "stream",
     "text": [
      "\n",
      "                    Novelty Data Opinion Programmers Sayings Pun Hilarious Computer Science Gag Men\n",
      "                   \n"
     ]
    }
   ],
   "source": [
    "url = 'https://www.amazon.com/Novelty-Opinion-Programmers-Hilarious-Computer/dp/B0CJML4ZK2/ref=sr_1_8?crid=2JWJ5RA7Y65P3&dib=eyJ2IjoiMSJ9.8Mn7cIjNIp8D5hzpaQklaZbFWSuhOKOUoMyyEVi6NLtLvHhNfwrgeZQaAyBNL-UmT1-nhcJDsdEdRueGV_tFuumck10dhahqRys_eJZHL_OD_X1F__5gDrj2qHY7m5F75Ax5WaGHoHJawq0bXw9yEtzCeIcMKHxEmRBAff5iWHSl0O6JbYb2Yq9I26Qa2PMd91WmzlS6rws2448er4ds3r3xQaY2mY1lW2LLEEPNrzzuL5NxMvoNbnxfLTMJiznt5zPt2EhpOrop7fQAtf6tqvebMyrUc175Dk1JbTqFa5z1ffich0_aUFfKvvuQ9sN7HpOOzUQsmgw-hZUGfMsGHxKMJRaMbRiN0GNoJfi-hQcUAo2QtJ2KMOPWuwNeQu3ZM95eaCMN-vKoDW7M-0gzLQxIqd6D3On6xxH997LNy9hL3GCuBl69iY4rK5cIuL2r.PjTlJ70ON3eKO_ziFOIOE7a4S6zwMMlfvnVgr7uZaNs&dib_tag=se&keywords=data+opinion+shirt&qid=1741020746&sr=8-8'\n",
    "\n",
    "headers = {\n",
    "    \"User-Agent\": \"Mozilla/5.0 (Windows NT 10.0; Win64; x64) AppleWebKit/537.36 (KHTML, like Gecko) Chrome/133.0.0.0 Safari/537.36\",\n",
    "    \"Accept-Language\": \"en-US,en;q=0.9\",}\n",
    "\n",
    "\n",
    "page = requests.get(url, headers = headers)\n",
    "soup1 = BeautifulSoup(page.content, 'html.parser')\n",
    "soup2 = BeautifulSoup(soup1.prettify(), 'html.parser')\n",
    "\n",
    "title = soup2.find(id=\"productTitle\").get_text()\n",
    "price = soup2.find(id=\"corePrice_desktop\").get_text()\n",
    "print(title)\n",
    "#print(price)"
   ]
  },
  {
   "cell_type": "code",
   "execution_count": 173,
   "id": "86190489-d83a-4ff0-900e-42912546d4b1",
   "metadata": {},
   "outputs": [
    {
     "name": "stdout",
     "output_type": "stream",
     "text": [
      "Novelty Data Opinion Programmers Sayings Pun Hilarious Computer Science Gag Men\n",
      "Price: $19.99 - $25.99\n"
     ]
    }
   ],
   "source": [
    "import re\n",
    "\n",
    "price = \" \".join(price.split())\n",
    "title = title.strip()\n",
    "\n",
    "\n",
    "# Extract all dollar values using regex\n",
    "price = re.findall(r\"\\$\\d+\\.\\d{2}\", price)\n",
    "\n",
    "# If at least two prices exist, format them correctly\n",
    "if len(price) >= 2:\n",
    "    formatted_price = f\"Price: {price[0]} - {price[-1]}\"\n",
    "elif len(price) == 1:\n",
    "    formatted_price = f\"Price: {prices[0]}\"\n",
    "else:\n",
    "    formatted_price = \"Price not found\"\n",
    "\n",
    "print(title)\n",
    "print(formatted_price)\n",
    "\n"
   ]
  },
  {
   "cell_type": "code",
   "execution_count": 168,
   "id": "8bcce361-b552-41aa-8051-10fecba8db93",
   "metadata": {},
   "outputs": [],
   "source": [
    "import csv\n",
    "\n",
    "headers = ['Title','Price']\n",
    "data = [title,formatted_price]\n",
    "\n",
    "with open('AmazonWebSracper.csv', 'w', newline = '',encoding = 'UTF8') as f:\n",
    "    writer = csv.writer(f)\n",
    "    writer.writerow(headers)\n",
    "    writer.writerow(data)\n"
   ]
  },
  {
   "cell_type": "code",
   "execution_count": 178,
   "id": "a7e1b397-587f-4810-8ec7-46c71d4a7ad3",
   "metadata": {},
   "outputs": [
    {
     "name": "stdout",
     "output_type": "stream",
     "text": [
      "2025-03-04\n"
     ]
    }
   ],
   "source": [
    "import datetime\n",
    "today = datetime.date.today()\n",
    "print(today)"
   ]
  },
  {
   "cell_type": "code",
   "execution_count": 180,
   "id": "e97a9934-e77f-41bd-9303-68b91908d4be",
   "metadata": {},
   "outputs": [],
   "source": [
    "import csv\n",
    "\n",
    "headers = ['Title','Price','Date']\n",
    "data = [title,formatted_price,today]\n",
    "\n",
    "with open('AmazonWebSracper.csv', 'w', newline = '',encoding = 'UTF8') as f:\n",
    "    writer = csv.writer(f)\n",
    "    writer.writerow(headers)\n",
    "    writer.writerow(data)"
   ]
  },
  {
   "cell_type": "code",
   "execution_count": null,
   "id": "400bd5dc-fdcc-4b9f-b2f2-d52d3d72787f",
   "metadata": {},
   "outputs": [],
   "source": []
  }
 ],
 "metadata": {
  "kernelspec": {
   "display_name": "Python [conda env:base] *",
   "language": "python",
   "name": "conda-base-py"
  },
  "language_info": {
   "codemirror_mode": {
    "name": "ipython",
    "version": 3
   },
   "file_extension": ".py",
   "mimetype": "text/x-python",
   "name": "python",
   "nbconvert_exporter": "python",
   "pygments_lexer": "ipython3",
   "version": "3.12.7"
  }
 },
 "nbformat": 4,
 "nbformat_minor": 5
}
