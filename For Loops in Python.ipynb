{
 "cells": [
  {
   "cell_type": "code",
   "execution_count": null,
   "id": "9170bc0f-6649-451e-91e2-684d6ea222cd",
   "metadata": {},
   "outputs": [],
   "source": [
    "# For Loops in Python"
   ]
  },
  {
   "cell_type": "code",
   "execution_count": 1,
   "id": "459a4ef8-99fa-48ec-9044-96a09b9e91d9",
   "metadata": {},
   "outputs": [],
   "source": [
    "integers = [1,2,3,4,5,6]"
   ]
  },
  {
   "cell_type": "code",
   "execution_count": 3,
   "id": "ddc0702e-9082-4542-a94c-da346c6cd896",
   "metadata": {},
   "outputs": [
    {
     "name": "stdout",
     "output_type": "stream",
     "text": [
      "1\n",
      "2\n",
      "3\n",
      "4\n",
      "5\n",
      "6\n"
     ]
    }
   ],
   "source": [
    "for number in integers:\n",
    "    print(number)"
   ]
  },
  {
   "cell_type": "code",
   "execution_count": 9,
   "id": "188b7669-70b7-42f2-a9b3-6d8c2c601eda",
   "metadata": {},
   "outputs": [
    {
     "name": "stdout",
     "output_type": "stream",
     "text": [
      "Tikesh\n",
      "Tikesh\n",
      "Tikesh\n",
      "Tikesh\n",
      "Tikesh\n",
      "Tikesh\n"
     ]
    }
   ],
   "source": [
    "for numbers in integers:\n",
    "    print('Tikesh')"
   ]
  },
  {
   "cell_type": "code",
   "execution_count": 15,
   "id": "38545ab2-f2fa-4669-98fa-3f7ec6f353d8",
   "metadata": {},
   "outputs": [
    {
     "name": "stdout",
     "output_type": "stream",
     "text": [
      "Hello Tikesh\n",
      "Hello Tikesh\n",
      "Hello Tikesh\n",
      "Hello Tikesh\n",
      "Hello Tikesh\n",
      "Hello Tikesh\n"
     ]
    }
   ],
   "source": [
    "for numbers in integers:\n",
    "    print('Hello' + ' Tikesh')"
   ]
  },
  {
   "cell_type": "code",
   "execution_count": null,
   "id": "4a95873b-2705-42ed-aba9-e842ad88dc26",
   "metadata": {},
   "outputs": [],
   "source": []
  },
  {
   "cell_type": "code",
   "execution_count": 17,
   "id": "ab276aad-3560-4677-bfcc-0e19116ae287",
   "metadata": {},
   "outputs": [],
   "source": [
    "Ice_cream = ['Chocolate', 'Vanilla', 'Cookie Dough']\n",
    "Topping = ['Hot Fudge', 'Oreos', 'Marshmallows']"
   ]
  },
  {
   "cell_type": "code",
   "execution_count": 19,
   "id": "a5a699f2-7798-494f-98ab-0b747ca9e330",
   "metadata": {},
   "outputs": [
    {
     "name": "stdout",
     "output_type": "stream",
     "text": [
      "Chocolate Topping with Hot Fudge\n",
      "Chocolate Topping with Oreos\n",
      "Chocolate Topping with Marshmallows\n",
      "Vanilla Topping with Hot Fudge\n",
      "Vanilla Topping with Oreos\n",
      "Vanilla Topping with Marshmallows\n",
      "Cookie Dough Topping with Hot Fudge\n",
      "Cookie Dough Topping with Oreos\n",
      "Cookie Dough Topping with Marshmallows\n"
     ]
    }
   ],
   "source": [
    "for one in Ice_cream:\n",
    "    for two in Topping:\n",
    "        print(one, 'Topping with', two)"
   ]
  },
  {
   "cell_type": "code",
   "execution_count": null,
   "id": "5a6ca173-1f5b-4e07-83ec-4eb81e7bb153",
   "metadata": {},
   "outputs": [],
   "source": []
  },
  {
   "cell_type": "code",
   "execution_count": 21,
   "id": "58d34af9-c20c-4a37-9743-dd18f71ff140",
   "metadata": {},
   "outputs": [],
   "source": [
    "ice_cream_dict = {'Name' : 'Tikesh Raj', 'Weekly_Intek' : 5, 'Favorite_Ice_Cream' : ['Chocolate','MCC']}"
   ]
  },
  {
   "cell_type": "code",
   "execution_count": 23,
   "id": "2b57f970-d1d0-45c5-ae2b-cd5618dda812",
   "metadata": {},
   "outputs": [
    {
     "name": "stdout",
     "output_type": "stream",
     "text": [
      "Name\n",
      "Weekly_Intek\n",
      "Favorite_Ice_Cream\n"
     ]
    }
   ],
   "source": [
    "for cream in ice_cream_dict.keys():\n",
    "    print(cream)"
   ]
  },
  {
   "cell_type": "code",
   "execution_count": 25,
   "id": "6db892b5-27f3-41de-8bf1-edbd2bc2b224",
   "metadata": {},
   "outputs": [
    {
     "name": "stdout",
     "output_type": "stream",
     "text": [
      "Name -> Tikesh Raj\n",
      "Weekly_Intek -> 5\n",
      "Favorite_Ice_Cream -> ['Chocolate', 'MCC']\n"
     ]
    }
   ],
   "source": [
    "for keys,values in ice_cream_dict.items():\n",
    "    print(keys, '->',values)"
   ]
  },
  {
   "cell_type": "code",
   "execution_count": null,
   "id": "6c668aca-631f-48ba-9bee-9fd7ea1a5bc9",
   "metadata": {},
   "outputs": [],
   "source": []
  },
  {
   "cell_type": "code",
   "execution_count": null,
   "id": "15e82cac-724f-4993-964f-6a42189d91f9",
   "metadata": {},
   "outputs": [],
   "source": []
  },
  {
   "cell_type": "code",
   "execution_count": null,
   "id": "0fc3aba8-5c35-4789-a4c5-b6ff57a46899",
   "metadata": {},
   "outputs": [],
   "source": []
  },
  {
   "cell_type": "code",
   "execution_count": null,
   "id": "2e0d0e70-b69d-481d-9a70-794c58dd45af",
   "metadata": {},
   "outputs": [],
   "source": []
  },
  {
   "cell_type": "code",
   "execution_count": null,
   "id": "bebb92d0-5cb4-444f-9d7e-6b8208da0db6",
   "metadata": {},
   "outputs": [],
   "source": []
  },
  {
   "cell_type": "code",
   "execution_count": null,
   "id": "1f33109b-d136-448f-a504-ea2a366282ea",
   "metadata": {},
   "outputs": [],
   "source": []
  },
  {
   "cell_type": "code",
   "execution_count": null,
   "id": "8b7fce62-3635-4f96-816a-c845295e5b22",
   "metadata": {},
   "outputs": [],
   "source": []
  },
  {
   "cell_type": "code",
   "execution_count": null,
   "id": "7fa98305-964c-485f-9d0a-bf5b52d83dd3",
   "metadata": {},
   "outputs": [],
   "source": []
  },
  {
   "cell_type": "code",
   "execution_count": null,
   "id": "83ff5892-34cf-46f8-a980-d96ba3fe46e2",
   "metadata": {},
   "outputs": [],
   "source": []
  },
  {
   "cell_type": "code",
   "execution_count": null,
   "id": "41653bcf-43e8-4ba7-b563-604e6f5fd095",
   "metadata": {},
   "outputs": [],
   "source": []
  },
  {
   "cell_type": "code",
   "execution_count": null,
   "id": "deb52df1-a91a-4e77-9dd9-c034db75e7b0",
   "metadata": {},
   "outputs": [],
   "source": []
  },
  {
   "cell_type": "code",
   "execution_count": null,
   "id": "74745930-c5c1-4ae3-9ca0-42dcd1634873",
   "metadata": {},
   "outputs": [],
   "source": []
  }
 ],
 "metadata": {
  "kernelspec": {
   "display_name": "Python [conda env:base] *",
   "language": "python",
   "name": "conda-base-py"
  },
  "language_info": {
   "codemirror_mode": {
    "name": "ipython",
    "version": 3
   },
   "file_extension": ".py",
   "mimetype": "text/x-python",
   "name": "python",
   "nbconvert_exporter": "python",
   "pygments_lexer": "ipython3",
   "version": "3.12.7"
  }
 },
 "nbformat": 4,
 "nbformat_minor": 5
}
