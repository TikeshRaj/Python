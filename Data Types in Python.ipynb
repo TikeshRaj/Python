{
 "cells": [
  {
   "cell_type": "code",
   "execution_count": null,
   "id": "e58bc435-41b1-4b69-ad6f-332977e94a44",
   "metadata": {},
   "outputs": [],
   "source": [
    "# Numeric Data Types\n",
    "#1. int\n",
    "#2. float\n",
    "#3. Complex"
   ]
  },
  {
   "cell_type": "code",
   "execution_count": 1,
   "id": "c95d44fc-b9c3-4503-8740-1a5efac15a28",
   "metadata": {},
   "outputs": [
    {
     "data": {
      "text/plain": [
       "int"
      ]
     },
     "execution_count": 1,
     "metadata": {},
     "output_type": "execute_result"
    }
   ],
   "source": [
    "type(-10 + 100)"
   ]
  },
  {
   "cell_type": "code",
   "execution_count": 3,
   "id": "07c9d4ff-7081-49e5-ae31-bf3da993b473",
   "metadata": {},
   "outputs": [
    {
     "data": {
      "text/plain": [
       "float"
      ]
     },
     "execution_count": 3,
     "metadata": {},
     "output_type": "execute_result"
    }
   ],
   "source": [
    "type(-10 + 100.00)"
   ]
  },
  {
   "cell_type": "code",
   "execution_count": 5,
   "id": "221a95cb-1d71-4380-871a-9bad3fdc5887",
   "metadata": {},
   "outputs": [
    {
     "data": {
      "text/plain": [
       "complex"
      ]
     },
     "execution_count": 5,
     "metadata": {},
     "output_type": "execute_result"
    }
   ],
   "source": [
    "type(-10 + 100j)"
   ]
  },
  {
   "cell_type": "code",
   "execution_count": null,
   "id": "3055a82f-21dc-4cc8-924b-e1cfedcbd60f",
   "metadata": {},
   "outputs": [],
   "source": [
    "# Boolean Data Types\n",
    "#1. True\n",
    "#2. False"
   ]
  },
  {
   "cell_type": "code",
   "execution_count": 7,
   "id": "a91f074f-4afe-4beb-8751-e9c1e22a66c5",
   "metadata": {},
   "outputs": [
    {
     "data": {
      "text/plain": [
       "bool"
      ]
     },
     "execution_count": 7,
     "metadata": {},
     "output_type": "execute_result"
    }
   ],
   "source": [
    "type(1 > 5)"
   ]
  },
  {
   "cell_type": "code",
   "execution_count": 9,
   "id": "621b48c8-6f64-4c21-94a7-8156e3d43f38",
   "metadata": {},
   "outputs": [
    {
     "data": {
      "text/plain": [
       "False"
      ]
     },
     "execution_count": 9,
     "metadata": {},
     "output_type": "execute_result"
    }
   ],
   "source": [
    "1 > 5"
   ]
  },
  {
   "cell_type": "code",
   "execution_count": 12,
   "id": "6b946d93-600c-4a67-9350-6376b75e5c26",
   "metadata": {},
   "outputs": [
    {
     "data": {
      "text/plain": [
       "True"
      ]
     },
     "execution_count": 12,
     "metadata": {},
     "output_type": "execute_result"
    }
   ],
   "source": [
    "1 == 1"
   ]
  },
  {
   "cell_type": "code",
   "execution_count": null,
   "id": "1b5507b7-1800-44d8-9631-8fddd93813ec",
   "metadata": {},
   "outputs": [],
   "source": [
    "# String \n",
    "#1. Single Quote \n",
    "#2. Double Quote\n",
    "#3. Triple Quote (Multi Lines)"
   ]
  },
  {
   "cell_type": "code",
   "execution_count": 18,
   "id": "f2dbfeba-dc59-4a36-ac40-81ebf3386c3c",
   "metadata": {},
   "outputs": [
    {
     "data": {
      "text/plain": [
       "'Hello World!'"
      ]
     },
     "execution_count": 18,
     "metadata": {},
     "output_type": "execute_result"
    }
   ],
   "source": [
    "#1. Single Quote \n",
    "'Hello World!'"
   ]
  },
  {
   "cell_type": "code",
   "execution_count": 22,
   "id": "b7c84437-058d-41e9-93bc-989ced36cef7",
   "metadata": {},
   "outputs": [
    {
     "data": {
      "text/plain": [
       "'Hello World!'"
      ]
     },
     "execution_count": 22,
     "metadata": {},
     "output_type": "execute_result"
    }
   ],
   "source": [
    "#2. Double Quote\n",
    "\"Hello World!\""
   ]
  },
  {
   "cell_type": "code",
   "execution_count": 30,
   "id": "effa1f64-5a29-4368-ad33-b0bcf418d4ca",
   "metadata": {},
   "outputs": [],
   "source": [
    "#3. Triple Quote (Multi Lines)\n",
    "Multiline = \"\"\"\n",
    "I need to learn become a Data Analyst,\n",
    "For that i need to know MySql,Excel,\n",
    "Power Bi and Python.\n",
    "\"\"\""
   ]
  },
  {
   "cell_type": "code",
   "execution_count": 32,
   "id": "60b731dc-046b-4bf2-9e30-7eff13b6cb01",
   "metadata": {},
   "outputs": [
    {
     "name": "stdout",
     "output_type": "stream",
     "text": [
      "\n",
      "I need to learn become a Data Analyst,\n",
      "For that i need to know MySql,Excel,\n",
      "Power Bi and Python.\n",
      "\n"
     ]
    }
   ],
   "source": [
    "print(Multiline)"
   ]
  },
  {
   "cell_type": "code",
   "execution_count": 36,
   "id": "b361401a-4e97-4794-adeb-f9f7527dae9d",
   "metadata": {},
   "outputs": [
    {
     "data": {
      "text/plain": [
       "\"I've always wanted to eat gallon ice cream\""
      ]
     },
     "execution_count": 36,
     "metadata": {},
     "output_type": "execute_result"
    }
   ],
   "source": [
    "\"I've always wanted to eat gallon ice cream\""
   ]
  },
  {
   "cell_type": "code",
   "execution_count": 38,
   "id": "aba5c198-c0d5-4187-891e-bb5e61e594be",
   "metadata": {},
   "outputs": [
    {
     "data": {
      "text/plain": [
       "str"
      ]
     },
     "execution_count": 38,
     "metadata": {},
     "output_type": "execute_result"
    }
   ],
   "source": [
    "type(Multiline)"
   ]
  },
  {
   "cell_type": "code",
   "execution_count": 46,
   "id": "46020eb4-8276-44d9-9d61-3653c9240222",
   "metadata": {},
   "outputs": [
    {
     "name": "stdout",
     "output_type": "stream",
     "text": [
      "Hello\n"
     ]
    }
   ],
   "source": [
    "a = 'Hello Wolrd!'\n",
    "print(a[:5])"
   ]
  },
  {
   "cell_type": "code",
   "execution_count": 48,
   "id": "3f2ad69f-7f62-4019-8fc4-8d912d5ab01f",
   "metadata": {},
   "outputs": [
    {
     "data": {
      "text/plain": [
       "'Hello Wolrd!Hello Wolrd!Hello Wolrd!'"
      ]
     },
     "execution_count": 48,
     "metadata": {},
     "output_type": "execute_result"
    }
   ],
   "source": [
    "a * 3"
   ]
  },
  {
   "cell_type": "code",
   "execution_count": 50,
   "id": "0721a85b-5f9a-4166-b6e6-0d6fa77aefe5",
   "metadata": {},
   "outputs": [
    {
     "data": {
      "text/plain": [
       "'Hello Wolrd!Hello Wolrd!'"
      ]
     },
     "execution_count": 50,
     "metadata": {},
     "output_type": "execute_result"
    }
   ],
   "source": [
    "a + a"
   ]
  },
  {
   "cell_type": "code",
   "execution_count": null,
   "id": "72c96dde-af54-487c-b600-9ab8cf50e83a",
   "metadata": {},
   "outputs": [],
   "source": [
    "# List"
   ]
  },
  {
   "cell_type": "code",
   "execution_count": 52,
   "id": "6bd46160-6c56-4d1d-9bc3-d040811ad512",
   "metadata": {},
   "outputs": [
    {
     "data": {
      "text/plain": [
       "[1, 2, 3]"
      ]
     },
     "execution_count": 52,
     "metadata": {},
     "output_type": "execute_result"
    }
   ],
   "source": [
    "[1,2,3]"
   ]
  },
  {
   "cell_type": "code",
   "execution_count": 54,
   "id": "b70f04ba-b778-4e68-8927-e140745ee16d",
   "metadata": {},
   "outputs": [
    {
     "data": {
      "text/plain": [
       "['Caremal', 'Cookie Dough', 'Chocolate']"
      ]
     },
     "execution_count": 54,
     "metadata": {},
     "output_type": "execute_result"
    }
   ],
   "source": [
    "['Caremal', 'Cookie Dough', 'Chocolate']"
   ]
  },
  {
   "cell_type": "code",
   "execution_count": 56,
   "id": "cdfb1168-00eb-4e9f-ae19-a0dfb5810e72",
   "metadata": {},
   "outputs": [
    {
     "data": {
      "text/plain": [
       "['Caremal', 2, ['vanilla', 'Chikku'], 'Chocolate']"
      ]
     },
     "execution_count": 56,
     "metadata": {},
     "output_type": "execute_result"
    }
   ],
   "source": [
    "['Caremal', 2, ['vanilla', 'Chikku'], 'Chocolate']"
   ]
  },
  {
   "cell_type": "code",
   "execution_count": 64,
   "id": "6e7e9fec-3ed8-4633-9809-ddd82de24f63",
   "metadata": {},
   "outputs": [
    {
     "data": {
      "text/plain": [
       "['Caremal', 'Cookie Dough', 'Chocolate', 'Strawberry']"
      ]
     },
     "execution_count": 64,
     "metadata": {},
     "output_type": "execute_result"
    }
   ],
   "source": [
    "Ice_cream = ['Caremal', 'Cookie Dough', 'Chocolate']\n",
    "Ice_cream.append('Strawberry')\n",
    "Ice_cream"
   ]
  },
  {
   "cell_type": "code",
   "execution_count": 68,
   "id": "bb59899e-f1e2-479b-b2dc-9c4ea1c52e5c",
   "metadata": {},
   "outputs": [
    {
     "data": {
      "text/plain": [
       "['Venilla', 'Cookie Dough', 'Chocolate', 'Strawberry']"
      ]
     },
     "execution_count": 68,
     "metadata": {},
     "output_type": "execute_result"
    }
   ],
   "source": [
    "Ice_cream [0] = 'Venilla'\n",
    "Ice_cream"
   ]
  },
  {
   "cell_type": "code",
   "execution_count": 70,
   "id": "7f0d8dc8-abb3-45a4-af01-da0acfb57fe6",
   "metadata": {},
   "outputs": [
    {
     "data": {
      "text/plain": [
       "['vanilla', 'Chikku']"
      ]
     },
     "execution_count": 70,
     "metadata": {},
     "output_type": "execute_result"
    }
   ],
   "source": [
    "Ice_cream = ['Caremal', 2, ['vanilla', 'Chikku'], 'Chocolate']\n",
    "Ice_cream[2]"
   ]
  },
  {
   "cell_type": "code",
   "execution_count": 72,
   "id": "c7037c45-ef07-46e5-8d4f-9cbcf0c934df",
   "metadata": {},
   "outputs": [
    {
     "data": {
      "text/plain": [
       "'Chikku'"
      ]
     },
     "execution_count": 72,
     "metadata": {},
     "output_type": "execute_result"
    }
   ],
   "source": [
    "Ice_cream[2][1]"
   ]
  },
  {
   "cell_type": "code",
   "execution_count": null,
   "id": "76b6e5d5-1769-40a7-ae27-fcab3700340b",
   "metadata": {},
   "outputs": [],
   "source": []
  },
  {
   "cell_type": "code",
   "execution_count": null,
   "id": "f87c31c8-9505-46c6-b0b4-a7fa52fb090e",
   "metadata": {},
   "outputs": [],
   "source": [
    "# Tuple"
   ]
  },
  {
   "cell_type": "code",
   "execution_count": 76,
   "id": "93127d47-02ff-40c5-81f0-4bbb2d487195",
   "metadata": {},
   "outputs": [
    {
     "data": {
      "text/plain": [
       "tuple"
      ]
     },
     "execution_count": 76,
     "metadata": {},
     "output_type": "execute_result"
    }
   ],
   "source": [
    "tuple_scoopes = (1,2,3,2,1)\n",
    "type(tuple_scoopes)"
   ]
  },
  {
   "cell_type": "code",
   "execution_count": 78,
   "id": "750d02e6-0e66-4d99-95c8-49933027a607",
   "metadata": {},
   "outputs": [
    {
     "data": {
      "text/plain": [
       "1"
      ]
     },
     "execution_count": 78,
     "metadata": {},
     "output_type": "execute_result"
    }
   ],
   "source": [
    "tuple_scoopes[0]"
   ]
  },
  {
   "cell_type": "code",
   "execution_count": null,
   "id": "6f33aed3-2be3-4bcb-9fd7-5819d0954b63",
   "metadata": {},
   "outputs": [],
   "source": []
  },
  {
   "cell_type": "code",
   "execution_count": null,
   "id": "e9118a2c-8466-4359-834b-4f3d85e42ca8",
   "metadata": {},
   "outputs": [],
   "source": [
    "# Sets"
   ]
  },
  {
   "cell_type": "code",
   "execution_count": 80,
   "id": "b089cfd6-2b94-49ee-8ecf-de276cc70db1",
   "metadata": {},
   "outputs": [
    {
     "data": {
      "text/plain": [
       "{1, 2, 3, 5, 23, 45}"
      ]
     },
     "execution_count": 80,
     "metadata": {},
     "output_type": "execute_result"
    }
   ],
   "source": [
    "{1,2,3,2,1,45,1,2,5,23,}"
   ]
  },
  {
   "cell_type": "code",
   "execution_count": 82,
   "id": "be9ffb2e-abab-44d9-933b-1bfabd9b06e6",
   "metadata": {},
   "outputs": [
    {
     "data": {
      "text/plain": [
       "{1, 2, 4, 5, 8, 22, 44}"
      ]
     },
     "execution_count": 82,
     "metadata": {},
     "output_type": "execute_result"
    }
   ],
   "source": [
    "My_daily_Vlog = {1,2,5,1,5,1,5,44,5,4,8,8,22,2,1,1,2,4,2,5}\n",
    "My_daily_Vlog"
   ]
  },
  {
   "cell_type": "code",
   "execution_count": 90,
   "id": "81478252-f0cf-40c7-8fab-6a3f7df33a1a",
   "metadata": {},
   "outputs": [
    {
     "data": {
      "text/plain": [
       "{0, 1, 2, 4, 5, 8, 9}"
      ]
     },
     "execution_count": 90,
     "metadata": {},
     "output_type": "execute_result"
    }
   ],
   "source": [
    "My_Sister_Daily_Vlog = {1,2,5,4,0,0,5,8,9,1,1,0,1,4,1,1,4,2,2}\n",
    "My_Sister_Daily_Vlog"
   ]
  },
  {
   "cell_type": "code",
   "execution_count": 96,
   "id": "98d31c65-0581-4000-8fe7-92895db73523",
   "metadata": {},
   "outputs": [
    {
     "data": {
      "text/plain": [
       "{0, 1, 2, 4, 5, 8, 9, 22, 44}"
      ]
     },
     "execution_count": 96,
     "metadata": {},
     "output_type": "execute_result"
    }
   ],
   "source": [
    "My_daily_Vlog | My_Sister_Daily_Vlog"
   ]
  },
  {
   "cell_type": "code",
   "execution_count": 98,
   "id": "b4753160-0b45-4c54-9a24-8301b0955cc4",
   "metadata": {},
   "outputs": [
    {
     "data": {
      "text/plain": [
       "{1, 2, 4, 5, 8}"
      ]
     },
     "execution_count": 98,
     "metadata": {},
     "output_type": "execute_result"
    }
   ],
   "source": [
    "My_daily_Vlog & My_Sister_Daily_Vlog"
   ]
  },
  {
   "cell_type": "code",
   "execution_count": 100,
   "id": "e66e4649-1f60-44d9-8ed1-91bceb035d41",
   "metadata": {},
   "outputs": [
    {
     "data": {
      "text/plain": [
       "{22, 44}"
      ]
     },
     "execution_count": 100,
     "metadata": {},
     "output_type": "execute_result"
    }
   ],
   "source": [
    "My_daily_Vlog - My_Sister_Daily_Vlog"
   ]
  },
  {
   "cell_type": "code",
   "execution_count": 102,
   "id": "413c4d9e-1ce7-41c8-8663-e8726eeb9e2f",
   "metadata": {},
   "outputs": [
    {
     "data": {
      "text/plain": [
       "{0, 9, 22, 44}"
      ]
     },
     "execution_count": 102,
     "metadata": {},
     "output_type": "execute_result"
    }
   ],
   "source": [
    "My_daily_Vlog ^ My_Sister_Daily_Vlog"
   ]
  },
  {
   "cell_type": "code",
   "execution_count": null,
   "id": "c2a0cb7f-2ed7-44e0-9526-7ca66df21a78",
   "metadata": {},
   "outputs": [],
   "source": []
  },
  {
   "cell_type": "code",
   "execution_count": null,
   "id": "44e51c18-e011-4820-a294-49a62263bd2a",
   "metadata": {},
   "outputs": [],
   "source": [
    "#Dictionary \n",
    "# Key Value Pair"
   ]
  },
  {
   "cell_type": "code",
   "execution_count": 107,
   "id": "c71d092b-7deb-40ca-b9c7-602a52f71942",
   "metadata": {},
   "outputs": [
    {
     "data": {
      "text/plain": [
       "dict"
      ]
     },
     "execution_count": 107,
     "metadata": {},
     "output_type": "execute_result"
    }
   ],
   "source": [
    "dict_cream = {'Name':'Tikesh', 'Weekly Intek': 5, 'Favorite ice cream':['Chocolate','Chikku']}\n",
    "type(dict_cream)"
   ]
  },
  {
   "cell_type": "code",
   "execution_count": 109,
   "id": "604aff32-f9f1-4684-baa6-8b9ed98e94bc",
   "metadata": {},
   "outputs": [
    {
     "name": "stdout",
     "output_type": "stream",
     "text": [
      "{'Name': 'Tikesh', 'Weekly Intek': 5, 'Favorite ice cream': ['Chocolate', 'Chikku']}\n"
     ]
    }
   ],
   "source": [
    "print(dict_cream)"
   ]
  },
  {
   "cell_type": "code",
   "execution_count": 117,
   "id": "b91c33e1-6009-4d33-b3c6-fe55157da958",
   "metadata": {},
   "outputs": [
    {
     "data": {
      "text/plain": [
       "dict_keys(['Name', 'Weekly Intek', 'Favorite ice cream'])"
      ]
     },
     "execution_count": 117,
     "metadata": {},
     "output_type": "execute_result"
    }
   ],
   "source": [
    "dict_cream.keys()"
   ]
  },
  {
   "cell_type": "code",
   "execution_count": 119,
   "id": "4e6f0569-3f13-446a-b457-782adfaa1459",
   "metadata": {},
   "outputs": [
    {
     "data": {
      "text/plain": [
       "dict_values(['Tikesh', 5, ['Chocolate', 'Chikku']])"
      ]
     },
     "execution_count": 119,
     "metadata": {},
     "output_type": "execute_result"
    }
   ],
   "source": [
    "dict_cream.values()"
   ]
  },
  {
   "cell_type": "code",
   "execution_count": 121,
   "id": "fe4a6cbd-af1b-4413-b2f1-3f8523a18630",
   "metadata": {},
   "outputs": [
    {
     "data": {
      "text/plain": [
       "dict_items([('Name', 'Tikesh'), ('Weekly Intek', 5), ('Favorite ice cream', ['Chocolate', 'Chikku'])])"
      ]
     },
     "execution_count": 121,
     "metadata": {},
     "output_type": "execute_result"
    }
   ],
   "source": [
    "dict_cream.items()"
   ]
  },
  {
   "cell_type": "code",
   "execution_count": 129,
   "id": "eaf10e42-cc23-4be0-9daf-0308ec96fe8a",
   "metadata": {},
   "outputs": [
    {
     "data": {
      "text/plain": [
       "'Tikesh'"
      ]
     },
     "execution_count": 129,
     "metadata": {},
     "output_type": "execute_result"
    }
   ],
   "source": [
    "dict_cream['Name']"
   ]
  },
  {
   "cell_type": "code",
   "execution_count": 139,
   "id": "b45dd49b-07fc-459c-9d65-715355c06fbb",
   "metadata": {},
   "outputs": [
    {
     "name": "stdout",
     "output_type": "stream",
     "text": [
      "{'Name': 'Tikesh', 'Weekly Intek': 5, 'Favorite ice cream': ['Chocolate', 'Chikku'], 'Weight': 100}\n"
     ]
    }
   ],
   "source": [
    "dict_cream.update({'Name': 'Tikesh', 'Weekly Intek': 5, 'Weight': 100}) \n",
    "print(dict_cream)"
   ]
  },
  {
   "cell_type": "code",
   "execution_count": null,
   "id": "8db686d4-4a34-4b2b-aa56-e3704a9f48c7",
   "metadata": {},
   "outputs": [],
   "source": []
  },
  {
   "cell_type": "code",
   "execution_count": null,
   "id": "657b7a1b-0921-493d-9a46-0622621c4e50",
   "metadata": {},
   "outputs": [],
   "source": []
  }
 ],
 "metadata": {
  "kernelspec": {
   "display_name": "Python [conda env:base] *",
   "language": "python",
   "name": "conda-base-py"
  },
  "language_info": {
   "codemirror_mode": {
    "name": "ipython",
    "version": 3
   },
   "file_extension": ".py",
   "mimetype": "text/x-python",
   "name": "python",
   "nbconvert_exporter": "python",
   "pygments_lexer": "ipython3",
   "version": "3.12.7"
  }
 },
 "nbformat": 4,
 "nbformat_minor": 5
}
