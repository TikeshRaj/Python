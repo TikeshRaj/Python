{
 "cells": [
  {
   "cell_type": "code",
   "execution_count": null,
   "id": "12c6fcd0-3b46-4a82-b254-5bf025a6cc86",
   "metadata": {},
   "outputs": [],
   "source": [
    "# Functions in Python"
   ]
  },
  {
   "cell_type": "code",
   "execution_count": 1,
   "id": "8113354c-e928-4578-af89-4b00b0b9ec1d",
   "metadata": {},
   "outputs": [],
   "source": [
    "def Hello():\n",
    "    print('This is my first function')"
   ]
  },
  {
   "cell_type": "code",
   "execution_count": 3,
   "id": "629b9ef1-da2c-4976-8935-309d9c5fd298",
   "metadata": {},
   "outputs": [
    {
     "name": "stdout",
     "output_type": "stream",
     "text": [
      "This is my first function\n"
     ]
    }
   ],
   "source": [
    "Hello()"
   ]
  },
  {
   "cell_type": "code",
   "execution_count": 7,
   "id": "171dd1c3-029f-433a-9688-b0a451665d14",
   "metadata": {},
   "outputs": [],
   "source": [
    "def Squared_Numbers(number):\n",
    "    print(number**2)"
   ]
  },
  {
   "cell_type": "code",
   "execution_count": 9,
   "id": "1e433ec6-2d48-477c-a65a-ab7a06ae0032",
   "metadata": {},
   "outputs": [
    {
     "name": "stdout",
     "output_type": "stream",
     "text": [
      "25\n"
     ]
    }
   ],
   "source": [
    "Squared_Numbers(5)"
   ]
  },
  {
   "cell_type": "code",
   "execution_count": 11,
   "id": "3387df8a-3f7b-4978-b3d0-4101a9556596",
   "metadata": {},
   "outputs": [],
   "source": [
    "def Squared_Numbers(number, power):\n",
    "    print(number**power)"
   ]
  },
  {
   "cell_type": "code",
   "execution_count": 15,
   "id": "ff238ce4-e72e-4a2f-a8e5-196072167e06",
   "metadata": {},
   "outputs": [
    {
     "name": "stdout",
     "output_type": "stream",
     "text": [
      "125\n"
     ]
    }
   ],
   "source": [
    "Squared_Numbers(5,3)"
   ]
  },
  {
   "cell_type": "code",
   "execution_count": 17,
   "id": "aa2a4e60-002c-45cd-af12-b79d5fb43668",
   "metadata": {},
   "outputs": [],
   "source": [
    "def Squared_Numbers(number, power):\n",
    "    print(number**power)"
   ]
  },
  {
   "cell_type": "code",
   "execution_count": 19,
   "id": "10adcfd0-7a11-422a-8e32-5b218b4889f8",
   "metadata": {},
   "outputs": [
    {
     "name": "stdout",
     "output_type": "stream",
     "text": [
      "8\n"
     ]
    }
   ],
   "source": [
    "Squared_Numbers(power = 3, number = 2)"
   ]
  },
  {
   "cell_type": "code",
   "execution_count": 23,
   "id": "cad35a13-98a8-4094-b979-183ec4937abf",
   "metadata": {},
   "outputs": [],
   "source": [
    "def number_args(*number):\n",
    "    print(number[0]*number[1])"
   ]
  },
  {
   "cell_type": "code",
   "execution_count": 25,
   "id": "25b2d5f3-6e6e-4794-82d4-8a562d238c4a",
   "metadata": {},
   "outputs": [
    {
     "name": "stdout",
     "output_type": "stream",
     "text": [
      "6\n"
     ]
    }
   ],
   "source": [
    "number_args(3,2,3,5,6)"
   ]
  },
  {
   "cell_type": "code",
   "execution_count": 27,
   "id": "0a7ec3ac-d679-4f9c-90c8-fb75ccede4ae",
   "metadata": {},
   "outputs": [],
   "source": [
    "tuple_args = (3,2,3,5,6)\n",
    "def number_args(*number):\n",
    "    print(number[0]*number[1])"
   ]
  },
  {
   "cell_type": "code",
   "execution_count": 31,
   "id": "8c88cc71-2a48-4586-b63e-9ce91b4cb63d",
   "metadata": {},
   "outputs": [
    {
     "name": "stdout",
     "output_type": "stream",
     "text": [
      "6\n"
     ]
    }
   ],
   "source": [
    "number_args(*tuple_args)"
   ]
  },
  {
   "cell_type": "code",
   "execution_count": null,
   "id": "11b1f923-ed7e-4de0-af39-ae948318dfbf",
   "metadata": {},
   "outputs": [],
   "source": []
  },
  {
   "cell_type": "code",
   "execution_count": null,
   "id": "b9df4a67-3171-40f4-a129-31d73e16b913",
   "metadata": {},
   "outputs": [],
   "source": []
  },
  {
   "cell_type": "code",
   "execution_count": null,
   "id": "33e48081-dfd2-463e-8ea8-097cda671072",
   "metadata": {},
   "outputs": [],
   "source": []
  },
  {
   "cell_type": "code",
   "execution_count": null,
   "id": "1831a819-b991-4465-8011-f1f8cd005f94",
   "metadata": {},
   "outputs": [],
   "source": []
  },
  {
   "cell_type": "code",
   "execution_count": null,
   "id": "cf5ddd75-ee62-479a-b15e-6e3056ba548f",
   "metadata": {},
   "outputs": [],
   "source": []
  },
  {
   "cell_type": "code",
   "execution_count": null,
   "id": "0b4241ee-db17-4f1d-95a9-d20ece1e4161",
   "metadata": {},
   "outputs": [],
   "source": []
  },
  {
   "cell_type": "code",
   "execution_count": null,
   "id": "83e10e25-71a1-4544-86d5-0936091817a8",
   "metadata": {},
   "outputs": [],
   "source": []
  },
  {
   "cell_type": "code",
   "execution_count": null,
   "id": "664caec7-3176-43bd-843c-a7e605b34384",
   "metadata": {},
   "outputs": [],
   "source": []
  }
 ],
 "metadata": {
  "kernelspec": {
   "display_name": "Python [conda env:base] *",
   "language": "python",
   "name": "conda-base-py"
  },
  "language_info": {
   "codemirror_mode": {
    "name": "ipython",
    "version": 3
   },
   "file_extension": ".py",
   "mimetype": "text/x-python",
   "name": "python",
   "nbconvert_exporter": "python",
   "pygments_lexer": "ipython3",
   "version": "3.12.7"
  }
 },
 "nbformat": 4,
 "nbformat_minor": 5
}
