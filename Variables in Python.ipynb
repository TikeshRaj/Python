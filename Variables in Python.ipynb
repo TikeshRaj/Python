{
 "cells": [
  {
   "cell_type": "code",
   "execution_count": 5,
   "id": "9ece50e7-0bc4-4e0b-8905-d5d557798ee0",
   "metadata": {},
   "outputs": [
    {
     "name": "stdout",
     "output_type": "stream",
     "text": [
      "22\n"
     ]
    }
   ],
   "source": [
    "x = 22\n",
    "print(x)"
   ]
  },
  {
   "cell_type": "code",
   "execution_count": 19,
   "id": "3203d628-2d1c-47ed-ac7a-68aeea195d9f",
   "metadata": {},
   "outputs": [
    {
     "name": "stdout",
     "output_type": "stream",
     "text": [
      "Chocolate\n"
     ]
    }
   ],
   "source": [
    "Y = 'Chocolate'\n",
    "y = 'Mint Chocolate Chip'\n",
    "print(Y)"
   ]
  },
  {
   "cell_type": "code",
   "execution_count": null,
   "id": "a23e6aad-000c-41e6-9612-98f5c19a2370",
   "metadata": {},
   "outputs": [],
   "source": []
  },
  {
   "cell_type": "code",
   "execution_count": 23,
   "id": "c68c6e67-ddc7-414c-bc42-7a045cea038e",
   "metadata": {},
   "outputs": [
    {
     "name": "stdout",
     "output_type": "stream",
     "text": [
      "Chocolate Venilla Butterscotch\n"
     ]
    }
   ],
   "source": [
    "x,y,z = 'Chocolate', 'Venilla','Butterscotch'\n",
    "print(x,y,z)"
   ]
  },
  {
   "cell_type": "code",
   "execution_count": 29,
   "id": "5ce2d4e2-4e37-4d88-ad81-ae44384dd335",
   "metadata": {},
   "outputs": [
    {
     "name": "stdout",
     "output_type": "stream",
     "text": [
      "('Chocolate', 'Venilla', 'Butterscotch')\n",
      "('Chocolate', 'Venilla', 'Butterscotch')\n",
      "('Chocolate', 'Venilla', 'Butterscotch')\n"
     ]
    }
   ],
   "source": [
    "x = y = z = 'Chocolate', 'Venilla','Butterscotch'\n",
    "print(x)\n",
    "print(y)\n",
    "print(z)"
   ]
  },
  {
   "cell_type": "code",
   "execution_count": null,
   "id": "f8fc05f9-764d-41e6-9284-51d5a70877cb",
   "metadata": {},
   "outputs": [],
   "source": []
  },
  {
   "cell_type": "code",
   "execution_count": 33,
   "id": "11c26cc8-0cd8-44c8-a20d-cfaa990e4dd7",
   "metadata": {},
   "outputs": [
    {
     "name": "stdout",
     "output_type": "stream",
     "text": [
      "Ice Cream is my favorite.\n"
     ]
    }
   ],
   "source": [
    "x = 'Ice Cream is my favorite' + '.'\n",
    "print(x)"
   ]
  },
  {
   "cell_type": "code",
   "execution_count": 37,
   "id": "797b9725-b4a4-43c1-b4be-09779e0a7ff1",
   "metadata": {},
   "outputs": [
    {
     "name": "stdout",
     "output_type": "stream",
     "text": [
      "Ice Cream is my favorite\n"
     ]
    }
   ],
   "source": [
    "x = 'Ice Cream is my favorite' \n",
    "print(x)"
   ]
  },
  {
   "cell_type": "code",
   "execution_count": null,
   "id": "3df12b89-704d-4681-a1d7-13b765de74f7",
   "metadata": {},
   "outputs": [],
   "source": []
  },
  {
   "cell_type": "code",
   "execution_count": 43,
   "id": "9845d427-3bfe-4aa1-9256-f6ec5ab97edb",
   "metadata": {},
   "outputs": [
    {
     "name": "stdout",
     "output_type": "stream",
     "text": [
      "Chocolate\n",
      "Venilla\n",
      "Butterscotch\n"
     ]
    }
   ],
   "source": [
    "Ice_cream = ['Chocolate', 'Venilla','Butterscotch']\n",
    "x,y,z = Ice_cream\n",
    "print(x)\n",
    "print(y)\n",
    "print(z)"
   ]
  },
  {
   "cell_type": "code",
   "execution_count": null,
   "id": "c384ff46-1783-4357-8227-81fb778bb442",
   "metadata": {},
   "outputs": [],
   "source": []
  },
  {
   "cell_type": "code",
   "execution_count": null,
   "id": "71a046c1-7f6c-43cb-ae42-3437c621566c",
   "metadata": {},
   "outputs": [],
   "source": []
  },
  {
   "cell_type": "code",
   "execution_count": null,
   "id": "261b5413-2597-41a3-8f94-3c5b0e869ee7",
   "metadata": {
    "jupyter": {
     "source_hidden": true
    }
   },
   "outputs": [],
   "source": []
  },
  {
   "cell_type": "code",
   "execution_count": null,
   "id": "a1bbd101-298e-4243-b73f-1fec836ae830",
   "metadata": {},
   "outputs": [],
   "source": []
  },
  {
   "cell_type": "code",
   "execution_count": null,
   "id": "aa2114be-9915-4223-9062-c9a088f96dee",
   "metadata": {},
   "outputs": [],
   "source": []
  },
  {
   "cell_type": "code",
   "execution_count": null,
   "id": "8289f410-c5ee-473d-854a-4fe44a83baf9",
   "metadata": {},
   "outputs": [],
   "source": []
  },
  {
   "cell_type": "code",
   "execution_count": null,
   "id": "e587641e-724f-4e93-b0d9-70d644813428",
   "metadata": {},
   "outputs": [],
   "source": []
  },
  {
   "cell_type": "code",
   "execution_count": null,
   "id": "20e290bf-3eaa-4022-bba8-c58c08189564",
   "metadata": {},
   "outputs": [],
   "source": []
  },
  {
   "cell_type": "code",
   "execution_count": null,
   "id": "20a1a95b-7771-46df-8576-43e0a2d7c1ba",
   "metadata": {},
   "outputs": [],
   "source": []
  },
  {
   "cell_type": "code",
   "execution_count": null,
   "id": "6cfece00-ae0e-4efd-9f73-70633dad8515",
   "metadata": {},
   "outputs": [],
   "source": []
  }
 ],
 "metadata": {
  "kernelspec": {
   "display_name": "Python [conda env:base] *",
   "language": "python",
   "name": "conda-base-py"
  },
  "language_info": {
   "codemirror_mode": {
    "name": "ipython",
    "version": 3
   },
   "file_extension": ".py",
   "mimetype": "text/x-python",
   "name": "python",
   "nbconvert_exporter": "python",
   "pygments_lexer": "ipython3",
   "version": "3.12.7"
  }
 },
 "nbformat": 4,
 "nbformat_minor": 5
}
