{
 "cells": [
  {
   "cell_type": "code",
   "execution_count": 53,
   "id": "f98018ac-d132-4b6c-a818-6d4709714731",
   "metadata": {},
   "outputs": [
    {
     "name": "stdin",
     "output_type": "stream",
     "text": [
      "Enter Your Name : Tikesh\n",
      "Enter Weight in Pounds : 170\n",
      "Enter Your Height in Inches : 58\n"
     ]
    },
    {
     "name": "stdout",
     "output_type": "stream",
     "text": [
      "Your BMI: 35.52615933412604\n",
      "Tikesh,You are Severely Obese.\n"
     ]
    }
   ],
   "source": [
    "Name = input(\"Enter Your Name :\")\n",
    "Weight = int(input(\"Enter Weight in Pounds :\"))\n",
    "Height = int(input(\"Enter Your Height in Inches :\"))\n",
    "BMI = (Weight * 703) / (Height * Height)\n",
    "print(\"Your BMI:\", BMI)\n",
    "if BMI > 0:\n",
    "    if BMI < 18.5:\n",
    "        print(Name +',You are Underweight.')\n",
    "    elif(BMI <= 24.9):\n",
    "        print(Name +',You are Normal Weight.')\n",
    "    elif(BMI <= 29.9):\n",
    "        print(Name +',You are Over Weight.')\n",
    "    elif(BMI <= 34.9):\n",
    "        print(Name +',You are Obese.')\n",
    "    elif(BMI <= 39.9):\n",
    "        print(Name +',You are Severely Obese.')\n",
    "    else:\n",
    "        print(Name +',SYou are Morbidly Obese.')\n",
    "else:\n",
    "    print('Enter Valid Inputs.')\n"
   ]
  },
  {
   "cell_type": "code",
   "execution_count": null,
   "id": "6e294047-73db-4570-9e90-3a93fc46ca5d",
   "metadata": {},
   "outputs": [],
   "source": []
  },
  {
   "cell_type": "code",
   "execution_count": null,
   "id": "1a7d9279-90cd-4d5a-8c27-53f49b8c96c0",
   "metadata": {},
   "outputs": [],
   "source": [
    "        "
   ]
  },
  {
   "cell_type": "code",
   "execution_count": null,
   "id": "516b1591-2c81-499b-867f-b280070b3acc",
   "metadata": {},
   "outputs": [],
   "source": []
  },
  {
   "cell_type": "code",
   "execution_count": null,
   "id": "01b9786f-08ce-418e-86e6-f49b58245aee",
   "metadata": {},
   "outputs": [],
   "source": []
  },
  {
   "cell_type": "code",
   "execution_count": null,
   "id": "580c76cc-fdcc-40d5-80b6-86d6d8e0b150",
   "metadata": {},
   "outputs": [],
   "source": []
  },
  {
   "cell_type": "code",
   "execution_count": null,
   "id": "62404b02-59ba-43f0-a514-eabbfd3af052",
   "metadata": {},
   "outputs": [],
   "source": []
  },
  {
   "cell_type": "code",
   "execution_count": null,
   "id": "d14d20ce-d573-4531-877e-e7d799bbad6e",
   "metadata": {},
   "outputs": [],
   "source": []
  },
  {
   "cell_type": "code",
   "execution_count": null,
   "id": "7312be28-6156-42c2-b3c6-3cfcd5117269",
   "metadata": {},
   "outputs": [],
   "source": []
  }
 ],
 "metadata": {
  "kernelspec": {
   "display_name": "Python [conda env:base] *",
   "language": "python",
   "name": "conda-base-py"
  },
  "language_info": {
   "codemirror_mode": {
    "name": "ipython",
    "version": 3
   },
   "file_extension": ".py",
   "mimetype": "text/x-python",
   "name": "python",
   "nbconvert_exporter": "python",
   "pygments_lexer": "ipython3",
   "version": "3.12.7"
  }
 },
 "nbformat": 4,
 "nbformat_minor": 5
}
